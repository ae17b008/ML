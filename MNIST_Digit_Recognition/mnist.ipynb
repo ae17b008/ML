{
  "nbformat": 4,
  "nbformat_minor": 0,
  "metadata": {
    "colab": {
      "provenance": []
    },
    "kernelspec": {
      "name": "python3",
      "display_name": "Python 3"
    },
    "language_info": {
      "name": "python"
    },
    "accelerator": "GPU",
    "gpuClass": "standard"
  },
  "cells": [
    {
      "cell_type": "code",
      "execution_count": 1,
      "metadata": {
        "colab": {
          "base_uri": "https://localhost:8080/"
        },
        "id": "gplcQYBv25hr",
        "outputId": "ce8fc0ef-430b-4232-d8ae-11cb5e6dd91a"
      },
      "outputs": [
        {
          "output_type": "stream",
          "name": "stdout",
          "text": [
            "\u001b[31mERROR: Could not find a version that satisfies the requirement tensorflow-gpu==2.0.0-beta1 (from versions: 2.2.0, 2.2.1, 2.2.2, 2.2.3, 2.3.0, 2.3.1, 2.3.2, 2.3.3, 2.3.4, 2.4.0, 2.4.1, 2.4.2, 2.4.3, 2.4.4, 2.5.0, 2.5.1, 2.5.2, 2.5.3, 2.6.0, 2.6.1, 2.6.2, 2.6.3, 2.6.4, 2.6.5, 2.7.0rc0, 2.7.0rc1, 2.7.0, 2.7.1, 2.7.2, 2.7.3, 2.7.4, 2.8.0rc0, 2.8.0rc1, 2.8.0, 2.8.1, 2.8.2, 2.8.3, 2.8.4, 2.9.0rc0, 2.9.0rc1, 2.9.0rc2, 2.9.0, 2.9.1, 2.9.2, 2.9.3, 2.10.0rc0, 2.10.0rc1, 2.10.0rc2, 2.10.0rc3, 2.10.0, 2.10.1, 2.11.0rc0, 2.11.0rc1, 2.11.0rc2, 2.11.0)\u001b[0m\n",
            "\u001b[31mERROR: No matching distribution found for tensorflow-gpu==2.0.0-beta1\u001b[0m\n"
          ]
        }
      ],
      "source": [
        "# !pip install -q tensorflow-gpu==2.0.0-beta1\n",
        "import tensorflow as tf\n"
      ]
    },
    {
      "cell_type": "code",
      "source": [
        "mnist=tf.keras.datasets.mnist\n",
        "(X_train,Y_train),(X_test,Y_test)=mnist.load_data()\n",
        "X_train, X_test=X_train/255,X_test/255\n"
      ],
      "metadata": {
        "colab": {
          "base_uri": "https://localhost:8080/"
        },
        "id": "wUXwz3ER3Y6u",
        "outputId": "ba6e7ef0-6870-4bf6-8eeb-7212263c16ce"
      },
      "execution_count": 2,
      "outputs": [
        {
          "output_type": "stream",
          "name": "stdout",
          "text": [
            "Downloading data from https://storage.googleapis.com/tensorflow/tf-keras-datasets/mnist.npz\n",
            "11490434/11490434 [==============================] - 0s 0us/step\n"
          ]
        }
      ]
    },
    {
      "cell_type": "code",
      "source": [
        "model=tf.keras.models.Sequential([\n",
        "    tf.keras.layers.Flatten(input_shape=(28,28)),\n",
        "    tf.keras.layers.Dense(128,activation='relu'),\n",
        "    tf.keras.layers.Dense(64,activation='relu'),\n",
        "    tf.keras.layers.Dense(32,activation='relu'),\n",
        "    tf.keras.layers.Dropout(0.2),\n",
        "    tf.keras.layers.Dense(10,activation='softmax')\n",
        "])"
      ],
      "metadata": {
        "id": "o9_DvaSp36vs"
      },
      "execution_count": 14,
      "outputs": []
    },
    {
      "cell_type": "code",
      "source": [
        "model.compile(optimizer='adam',loss='sparse_categorical_crossentropy',metrics='accuracy')"
      ],
      "metadata": {
        "id": "Xer_JJY54iuu"
      },
      "execution_count": 15,
      "outputs": []
    },
    {
      "cell_type": "code",
      "source": [
        "r=model.fit(X_train,Y_train,validation_data=(X_test,Y_test),epochs=30)"
      ],
      "metadata": {
        "colab": {
          "base_uri": "https://localhost:8080/"
        },
        "id": "BByYkLuO5NTG",
        "outputId": "9949164a-b40b-436f-c2d7-57069a3d84db"
      },
      "execution_count": 16,
      "outputs": [
        {
          "output_type": "stream",
          "name": "stdout",
          "text": [
            "Epoch 1/30\n",
            "1875/1875 [==============================] - 7s 4ms/step - loss: 0.3254 - accuracy: 0.9025 - val_loss: 0.1316 - val_accuracy: 0.9594\n",
            "Epoch 2/30\n",
            "1875/1875 [==============================] - 5s 3ms/step - loss: 0.1321 - accuracy: 0.9628 - val_loss: 0.0994 - val_accuracy: 0.9695\n",
            "Epoch 3/30\n",
            "1875/1875 [==============================] - 5s 3ms/step - loss: 0.0972 - accuracy: 0.9720 - val_loss: 0.0929 - val_accuracy: 0.9720\n",
            "Epoch 4/30\n",
            "1875/1875 [==============================] - 6s 3ms/step - loss: 0.0763 - accuracy: 0.9775 - val_loss: 0.0878 - val_accuracy: 0.9752\n",
            "Epoch 5/30\n",
            "1875/1875 [==============================] - 5s 3ms/step - loss: 0.0629 - accuracy: 0.9812 - val_loss: 0.0840 - val_accuracy: 0.9746\n",
            "Epoch 6/30\n",
            "1875/1875 [==============================] - 5s 3ms/step - loss: 0.0531 - accuracy: 0.9841 - val_loss: 0.0903 - val_accuracy: 0.9765\n",
            "Epoch 7/30\n",
            "1875/1875 [==============================] - 5s 3ms/step - loss: 0.0446 - accuracy: 0.9865 - val_loss: 0.0899 - val_accuracy: 0.9778\n",
            "Epoch 8/30\n",
            "1875/1875 [==============================] - 5s 3ms/step - loss: 0.0387 - accuracy: 0.9883 - val_loss: 0.0875 - val_accuracy: 0.9798\n",
            "Epoch 9/30\n",
            "1875/1875 [==============================] - 5s 3ms/step - loss: 0.0357 - accuracy: 0.9897 - val_loss: 0.0929 - val_accuracy: 0.9778\n",
            "Epoch 10/30\n",
            "1875/1875 [==============================] - 5s 3ms/step - loss: 0.0296 - accuracy: 0.9911 - val_loss: 0.1032 - val_accuracy: 0.9778\n",
            "Epoch 11/30\n",
            "1875/1875 [==============================] - 6s 3ms/step - loss: 0.0298 - accuracy: 0.9910 - val_loss: 0.0945 - val_accuracy: 0.9784\n",
            "Epoch 12/30\n",
            "1875/1875 [==============================] - 5s 3ms/step - loss: 0.0237 - accuracy: 0.9925 - val_loss: 0.1061 - val_accuracy: 0.9775\n",
            "Epoch 13/30\n",
            "1875/1875 [==============================] - 5s 3ms/step - loss: 0.0241 - accuracy: 0.9924 - val_loss: 0.0922 - val_accuracy: 0.9807\n",
            "Epoch 14/30\n",
            "1875/1875 [==============================] - 5s 3ms/step - loss: 0.0232 - accuracy: 0.9930 - val_loss: 0.0991 - val_accuracy: 0.9788\n",
            "Epoch 15/30\n",
            "1875/1875 [==============================] - 5s 3ms/step - loss: 0.0193 - accuracy: 0.9944 - val_loss: 0.1048 - val_accuracy: 0.9751\n",
            "Epoch 16/30\n",
            "1875/1875 [==============================] - 5s 3ms/step - loss: 0.0210 - accuracy: 0.9936 - val_loss: 0.1135 - val_accuracy: 0.9778\n",
            "Epoch 17/30\n",
            "1875/1875 [==============================] - 5s 3ms/step - loss: 0.0182 - accuracy: 0.9944 - val_loss: 0.1147 - val_accuracy: 0.9775\n",
            "Epoch 18/30\n",
            "1875/1875 [==============================] - 5s 3ms/step - loss: 0.0157 - accuracy: 0.9954 - val_loss: 0.1306 - val_accuracy: 0.9772\n",
            "Epoch 19/30\n",
            "1875/1875 [==============================] - 5s 3ms/step - loss: 0.0163 - accuracy: 0.9951 - val_loss: 0.1254 - val_accuracy: 0.9777\n",
            "Epoch 20/30\n",
            "1875/1875 [==============================] - 5s 3ms/step - loss: 0.0150 - accuracy: 0.9955 - val_loss: 0.1267 - val_accuracy: 0.9780\n",
            "Epoch 21/30\n",
            "1875/1875 [==============================] - 5s 3ms/step - loss: 0.0154 - accuracy: 0.9952 - val_loss: 0.1224 - val_accuracy: 0.9778\n",
            "Epoch 22/30\n",
            "1875/1875 [==============================] - 6s 3ms/step - loss: 0.0147 - accuracy: 0.9956 - val_loss: 0.1334 - val_accuracy: 0.9774\n",
            "Epoch 23/30\n",
            "1875/1875 [==============================] - 5s 3ms/step - loss: 0.0149 - accuracy: 0.9954 - val_loss: 0.1188 - val_accuracy: 0.9810\n",
            "Epoch 24/30\n",
            "1875/1875 [==============================] - 5s 3ms/step - loss: 0.0105 - accuracy: 0.9970 - val_loss: 0.1419 - val_accuracy: 0.9771\n",
            "Epoch 25/30\n",
            "1875/1875 [==============================] - 5s 3ms/step - loss: 0.0137 - accuracy: 0.9962 - val_loss: 0.1436 - val_accuracy: 0.9780\n",
            "Epoch 26/30\n",
            "1875/1875 [==============================] - 5s 3ms/step - loss: 0.0120 - accuracy: 0.9966 - val_loss: 0.1425 - val_accuracy: 0.9771\n",
            "Epoch 27/30\n",
            "1875/1875 [==============================] - 5s 3ms/step - loss: 0.0108 - accuracy: 0.9967 - val_loss: 0.1357 - val_accuracy: 0.9799\n",
            "Epoch 28/30\n",
            "1875/1875 [==============================] - 5s 3ms/step - loss: 0.0121 - accuracy: 0.9967 - val_loss: 0.1269 - val_accuracy: 0.9806\n",
            "Epoch 29/30\n",
            "1875/1875 [==============================] - 5s 3ms/step - loss: 0.0117 - accuracy: 0.9968 - val_loss: 0.1263 - val_accuracy: 0.9812\n",
            "Epoch 30/30\n",
            "1875/1875 [==============================] - 5s 3ms/step - loss: 0.0113 - accuracy: 0.9969 - val_loss: 0.1798 - val_accuracy: 0.9759\n"
          ]
        }
      ]
    },
    {
      "cell_type": "code",
      "source": [
        "import matplotlib.pyplot as plt\n",
        "plt.plot(r.history['loss'],label='loss')\n",
        "plt.plot(r.history['val_loss'],label='val_loss')\n",
        "plt.legend()"
      ],
      "metadata": {
        "colab": {
          "base_uri": "https://localhost:8080/",
          "height": 283
        },
        "id": "TE0tNHu25nUj",
        "outputId": "6b0796b2-7975-4cea-a990-5fa2953857aa"
      },
      "execution_count": 17,
      "outputs": [
        {
          "output_type": "execute_result",
          "data": {
            "text/plain": [
              "<matplotlib.legend.Legend at 0x7fc9bc7e3df0>"
            ]
          },
          "metadata": {},
          "execution_count": 17
        },
        {
          "output_type": "display_data",
          "data": {
            "text/plain": [
              "<Figure size 432x288 with 1 Axes>"
            ],
            "image/png": "[encoded data removed]"
          },
          "metadata": {
            "needs_background": "light"
          }
        }
      ]
    },
    {
      "cell_type": "code",
      "source": [
        "import matplotlib.pyplot as plt\n",
        "plt.plot(r.history['accuracy'],label='accuracy')\n",
        "plt.plot(r.history['val_accuracy'],label='accuracy')\n",
        "plt.legend()"
      ],
      "metadata": {
        "colab": {
          "base_uri": "https://localhost:8080/",
          "height": 284
        },
        "id": "yKSbvzjd7yot",
        "outputId": "d06ccf3e-a6c5-46d4-cc2f-9f2264e05a2e"
      },
      "execution_count": 18,
      "outputs": [
        {
          "output_type": "execute_result",
          "data": {
            "text/plain": [
              "<matplotlib.legend.Legend at 0x7fc9d41ab820>"
            ]
          },
          "metadata": {},
          "execution_count": 18
        },
        {
          "output_type": "display_data",
          "data": {
            "text/plain": [
              "<Figure size 432x288 with 1 Axes>"
            ],
            "image/png": "[encoded data removed]"
          },
          "metadata": {
            "needs_background": "light"
          }
        }
      ]
    },
    {
      "cell_type": "code",
      "source": [
        "print(model.evaluate(X_test,Y_test))"
      ],
      "metadata": {
        "colab": {
          "base_uri": "https://localhost:8080/"
        },
        "id": "SHgRc2qg5_li",
        "outputId": "bb2cc601-2570-48ce-e589-6020d9e54cad"
      },
      "execution_count": 19,
      "outputs": [
        {
          "output_type": "stream",
          "name": "stdout",
          "text": [
            "313/313 [==============================] - 1s 2ms/step - loss: 0.1798 - accuracy: 0.9759\n",
            "[0.17983902990818024, 0.9758999943733215]\n"
          ]
        }
      ]
    }
  ]
}