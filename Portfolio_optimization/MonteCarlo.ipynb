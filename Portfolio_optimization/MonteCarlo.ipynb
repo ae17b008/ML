{
  "nbformat": 4,
  "nbformat_minor": 0,
  "metadata": {
    "colab": {
      "provenance": []
    },
    "kernelspec": {
      "name": "python3",
      "display_name": "Python 3"
    },
    "language_info": {
      "name": "python"
    },
    "accelerator": "GPU",
    "gpuClass": "standard"
  },
  "cells": [
    {
      "cell_type": "code",
      "source": [
        "import numpy as np  \n",
        "import pandas as pd \n",
        "import matplotlib.pyplot as plt  \n",
        "from scipy.stats import norm\n",
        "from sklearn.metrics import mean_squared_error"
      ],
      "metadata": {
        "id": "3SH5Gtlu38Wq"
      },
      "execution_count": 1,
      "outputs": []
    },
    {
      "cell_type": "code",
      "source": [
        "df=pd.read_csv('BTC-USD.csv',index_col='Date',parse_dates=True)"
      ],
      "metadata": {
        "id": "yPNdkfzHRnrA"
      },
      "execution_count": 2,
      "outputs": []
    },
    {
      "cell_type": "code",
      "source": [
        "df.head()"
      ],
      "metadata": {
        "colab": {
          "base_uri": "https://localhost:8080/",
          "height": 238
        },
        "id": "A5CRlZCdSJ65",
        "outputId": "af0f708a-6be7-4be0-916b-e884856dab49"
      },
      "execution_count": null,
      "outputs": [
        {
          "output_type": "execute_result",
          "data": {
            "text/plain": [
              "                    Open          High           Low         Close  \\\n",
              "Date                                                                 \n",
              "2017-12-23  13948.700195  15603.200195  13828.799805  14699.200195   \n",
              "2017-12-24  14608.200195  14626.000000  12747.700195  13925.799805   \n",
              "2017-12-25  13995.900391  14593.000000  13448.900391  14026.599609   \n",
              "2017-12-26  14036.599609  16461.199219  14028.900391  16099.799805   \n",
              "2017-12-27  16163.500000  16930.900391  15114.299805  15838.500000   \n",
              "\n",
              "               Adj Close       Volume  \n",
              "Date                                   \n",
              "2017-12-23  14699.200195  13086000128  \n",
              "2017-12-24  13925.799805  11572299776  \n",
              "2017-12-25  14026.599609  10664699904  \n",
              "2017-12-26  16099.799805  13454300160  \n",
              "2017-12-27  15838.500000  12487600128  "
            ],
            "text/html": [
              "\n",
              "  <div id=\"df-ef5fa888-464b-4557-b490-334533365551\">\n",
              "    <div class=\"colab-df-container\">\n",
              "      <div>\n",
              "<style scoped>\n",
              "    .dataframe tbody tr th:only-of-type {\n",
              "        vertical-align: middle;\n",
              "    }\n",
              "\n",
              "    .dataframe tbody tr th {\n",
              "        vertical-align: top;\n",
              "    }\n",
              "\n",
              "    .dataframe thead th {\n",
              "        text-align: right;\n",
              "    }\n",
              "</style>\n",
              "<table border=\"1\" class=\"dataframe\">\n",
              "  <thead>\n",
              "    <tr style=\"text-align: right;\">\n",
              "      <th></th>\n",
              "      <th>Open</th>\n",
              "      <th>High</th>\n",
              "      <th>Low</th>\n",
              "      <th>Close</th>\n",
              "      <th>Adj Close</th>\n",
              "      <th>Volume</th>\n",
              "    </tr>\n",
              "    <tr>\n",
              "      <th>Date</th>\n",
              "      <th></th>\n",
              "      <th></th>\n",
              "      <th></th>\n",
              "      <th></th>\n",
              "      <th></th>\n",
              "      <th></th>\n",
              "    </tr>\n",
              "  </thead>\n",
              "  <tbody>\n",
              "    <tr>\n",
              "      <th>2017-12-23</th>\n",
              "      <td>13948.700195</td>\n",
              "      <td>15603.200195</td>\n",
              "      <td>13828.799805</td>\n",
              "      <td>14699.200195</td>\n",
              "      <td>14699.200195</td>\n",
              "      <td>13086000128</td>\n",
              "    </tr>\n",
              "    <tr>\n",
              "      <th>2017-12-24</th>\n",
              "      <td>14608.200195</td>\n",
              "      <td>14626.000000</td>\n",
              "      <td>12747.700195</td>\n",
              "      <td>13925.799805</td>\n",
              "      <td>13925.799805</td>\n",
              "      <td>11572299776</td>\n",
              "    </tr>\n",
              "    <tr>\n",
              "      <th>2017-12-25</th>\n",
              "      <td>13995.900391</td>\n",
              "      <td>14593.000000</td>\n",
              "      <td>13448.900391</td>\n",
              "      <td>14026.599609</td>\n",
              "      <td>14026.599609</td>\n",
              "      <td>10664699904</td>\n",
              "    </tr>\n",
              "    <tr>\n",
              "      <th>2017-12-26</th>\n",
              "      <td>14036.599609</td>\n",
              "      <td>16461.199219</td>\n",
              "      <td>14028.900391</td>\n",
              "      <td>16099.799805</td>\n",
              "      <td>16099.799805</td>\n",
              "      <td>13454300160</td>\n",
              "    </tr>\n",
              "    <tr>\n",
              "      <th>2017-12-27</th>\n",
              "      <td>16163.500000</td>\n",
              "      <td>16930.900391</td>\n",
              "      <td>15114.299805</td>\n",
              "      <td>15838.500000</td>\n",
              "      <td>15838.500000</td>\n",
              "      <td>12487600128</td>\n",
              "    </tr>\n",
              "  </tbody>\n",
              "</table>\n",
              "</div>\n",
              "      <button class=\"colab-df-convert\" onclick=\"convertToInteractive('df-ef5fa888-464b-4557-b490-334533365551')\"\n",
              "              title=\"Convert this dataframe to an interactive table.\"\n",
              "              style=\"display:none;\">\n",
              "        \n",
              "  <svg xmlns=\"http://www.w3.org/2000/svg\" height=\"24px\"viewBox=\"0 0 24 24\"\n",
              "       width=\"24px\">\n",
              "    <path d=\"M0 0h24v24H0V0z\" fill=\"none\"/>\n",
              "    <path d=\"M18.56 5.44l.94 2.06.94-2.06 2.06-.94-2.06-.94-.94-2.06-.94 2.06-2.06.94zm-11 1L8.5 8.5l.94-2.06 2.06-.94-2.06-.94L8.5 2.5l-.94 2.06-2.06.94zm10 10l.94 2.06.94-2.06 2.06-.94-2.06-.94-.94-2.06-.94 2.06-2.06.94z\"/><path d=\"M17.41 7.96l-1.37-1.37c-.4-.4-.92-.59-1.43-.59-.52 0-1.04.2-1.43.59L10.3 9.45l-7.72 7.72c-.78.78-.78 2.05 0 2.83L4 21.41c.39.39.9.59 1.41.59.51 0 1.02-.2 1.41-.59l7.78-7.78 2.81-2.81c.8-.78.8-2.07 0-2.86zM5.41 20L4 18.59l7.72-7.72 1.47 1.35L5.41 20z\"/>\n",
              "  </svg>\n",
              "      </button>\n",
              "      \n",
              "  <style>\n",
              "    .colab-df-container {\n",
              "      display:flex;\n",
              "      flex-wrap:wrap;\n",
              "      gap: 12px;\n",
              "    }\n",
              "\n",
              "    .colab-df-convert {\n",
              "      background-color: #E8F0FE;\n",
              "      border: none;\n",
              "      border-radius: 50%;\n",
              "      cursor: pointer;\n",
              "      display: none;\n",
              "      fill: #1967D2;\n",
              "      height: 32px;\n",
              "      padding: 0 0 0 0;\n",
              "      width: 32px;\n",
              "    }\n",
              "\n",
              "    .colab-df-convert:hover {\n",
              "      background-color: #E2EBFA;\n",
              "      box-shadow: 0px 1px 2px rgba(60, 64, 67, 0.3), 0px 1px 3px 1px rgba(60, 64, 67, 0.15);\n",
              "      fill: #174EA6;\n",
              "    }\n",
              "\n",
              "    [theme=dark] .colab-df-convert {\n",
              "      background-color: #3B4455;\n",
              "      fill: #D2E3FC;\n",
              "    }\n",
              "\n",
              "    [theme=dark] .colab-df-convert:hover {\n",
              "      background-color: #434B5C;\n",
              "      box-shadow: 0px 1px 3px 1px rgba(0, 0, 0, 0.15);\n",
              "      filter: drop-shadow(0px 1px 2px rgba(0, 0, 0, 0.3));\n",
              "      fill: #FFFFFF;\n",
              "    }\n",
              "  </style>\n",
              "\n",
              "      <script>\n",
              "        const buttonEl =\n",
              "          document.querySelector('#df-ef5fa888-464b-4557-b490-334533365551 button.colab-df-convert');\n",
              "        buttonEl.style.display =\n",
              "          google.colab.kernel.accessAllowed ? 'block' : 'none';\n",
              "\n",
              "        async function convertToInteractive(key) {\n",
              "          const element = document.querySelector('#df-ef5fa888-464b-4557-b490-334533365551');\n",
              "          const dataTable =\n",
              "            await google.colab.kernel.invokeFunction('convertToInteractive',\n",
              "                                                     [key], {});\n",
              "          if (!dataTable) return;\n",
              "\n",
              "          const docLinkHtml = 'Like what you see? Visit the ' +\n",
              "            '<a target=\"_blank\" href=https://colab.research.google.com/notebooks/data_table.ipynb>data table notebook</a>'\n",
              "            + ' to learn more about interactive tables.';\n",
              "          element.innerHTML = '';\n",
              "          dataTable['output_type'] = 'display_data';\n",
              "          await google.colab.output.renderOutput(dataTable, element);\n",
              "          const docLink = document.createElement('div');\n",
              "          docLink.innerHTML = docLinkHtml;\n",
              "          element.appendChild(docLink);\n",
              "        }\n",
              "      </script>\n",
              "    </div>\n",
              "  </div>\n",
              "  "
            ]
          },
          "metadata": {},
          "execution_count": 3
        }
      ]
    },
    {
      "cell_type": "code",
      "source": [
        "df.plot()"
      ],
      "metadata": {
        "colab": {
          "base_uri": "https://localhost:8080/",
          "height": 307
        },
        "id": "_jcYSKW2SK_B",
        "outputId": "6c985151-6b8e-444d-a3fc-9e84e2b73d59"
      },
      "execution_count": null,
      "outputs": [
        {
          "output_type": "execute_result",
          "data": {
            "text/plain": [
              "<matplotlib.axes._subplots.AxesSubplot at 0x7fa6b39917f0>"
            ]
          },
          "metadata": {},
          "execution_count": 4
        },
        {
          "output_type": "display_data",
          "data": {
            "text/plain": [
              "<Figure size 432x288 with 1 Axes>"
            ],
            "image/png": "[encoded data removed]"
          },
          "metadata": {
            "needs_background": "light"
          }
        }
      ]
    },
    {
      "cell_type": "code",
      "source": [
        "# train-test split\n",
        "Ntest=10\n",
        "train=df.iloc[:-Ntest]\n",
        "test=df.iloc[-Ntest:]\n",
        "train_idx = df.index <= train.index[-1]\n",
        "test_idx = df.index > train.index[-1]"
      ],
      "metadata": {
        "id": "0HmeWXLeUOgU"
      },
      "execution_count": 3,
      "outputs": []
    },
    {
      "cell_type": "code",
      "source": [
        "Log_return = np.log(1 + train['Close'].pct_change()) \n",
        "\n",
        "drift = np.array(Log_return.mean() - (Log_return.var() / 2.0))\n",
        "num_of_prediction_days = 11 \n",
        "paths = 5000\n",
        "\n",
        "std = np.array(Log_return.std())\n",
        "\n",
        "Random_var = np.array(Log_return.std()) * norm.ppf(np.random.rand(num_of_prediction_days, paths)) # Calculating Rv\n",
        "\n",
        "print(Random_var)"
      ],
      "metadata": {
        "colab": {
          "base_uri": "https://localhost:8080/"
        },
        "id": "iTaKGZhA38Y7",
        "outputId": "4d3d8f18-0f41-4531-fa38-fd4c23f2936f"
      },
      "execution_count": 4,
      "outputs": [
        {
          "output_type": "stream",
          "name": "stdout",
          "text": [
            "[[-0.01278694 -0.03894698  0.0176941  ... -0.00257019 -0.02868198\n",
            "  -0.06502339]\n",
            " [ 0.01204257  0.03097214  0.01823543 ... -0.01298208  0.06287896\n",
            "  -0.00421884]\n",
            " [-0.01318274 -0.0019432   0.04508852 ...  0.03764376 -0.05279347\n",
            "   0.01195114]\n",
            " ...\n",
            " [-0.02572681  0.04587942  0.05110862 ...  0.02653567  0.01088042\n",
            "   0.06069045]\n",
            " [-0.03288432  0.02391048  0.02373676 ...  0.05422948  0.06253502\n",
            "  -0.03132235]\n",
            " [-0.04535314  0.06070484 -0.06127051 ...  0.0186259  -0.02979723\n",
            "  -0.04445574]]\n"
          ]
        }
      ]
    },
    {
      "cell_type": "code",
      "source": [
        "predicted_prices = np.zeros_like(np.exp(drift + Random_var)) \n",
        "predicted_prices[0] = train['Close'].iloc[-1]\n",
        "# Loop over all the days to find their prices & Calculating the future price with formula\n",
        "for i in range(1, num_of_prediction_days): \n",
        "    predicted_prices[i] = predicted_prices[i - 1] * np.exp(drift + Random_var)[i] \n",
        "\n",
        "print(\"The Minimum Predicted Price:\", predicted_prices[num_of_prediction_days-1].min()) \n",
        "print(\"The Maximum Predicted Price:\", predicted_prices[num_of_prediction_days-1].max()) \n",
        "print(\"The Mean Predicted Price:\", predicted_prices[num_of_prediction_days-1].mean())\n",
        "\n"
      ],
      "metadata": {
        "id": "xwtE27bP4pdn",
        "colab": {
          "base_uri": "https://localhost:8080/"
        },
        "outputId": "c106732c-da38-4d21-d204-ba2794f855d2"
      },
      "execution_count": 5,
      "outputs": [
        {
          "output_type": "stream",
          "name": "stdout",
          "text": [
            "The Minimum Predicted Price: 10403.098365356747\n",
            "The Maximum Predicted Price: 27060.95751397112\n",
            "The Mean Predicted Price: 16795.129311998822\n"
          ]
        }
      ]
    },
    {
      "cell_type": "code",
      "source": [
        "plt.xlabel('Days') \n",
        "plt.ylabel('Price') \n",
        "plt.title('Monte Carlo Analysis for Systems') \n",
        "plt.plot(predicted_prices)"
      ],
      "metadata": {
        "id": "ReqZpgXh1JNY"
      },
      "execution_count": null,
      "outputs": []
    },
    {
      "cell_type": "code",
      "source": [
        "test_pred=[]\n",
        "for i in range(predicted_prices.shape[0]):\n",
        "  test_pred.append(predicted_prices[i].mean())"
      ],
      "metadata": {
        "id": "6zf6KBV-6g8A"
      },
      "execution_count": null,
      "outputs": []
    },
    {
      "cell_type": "code",
      "source": [
        "test_pred"
      ],
      "metadata": {
        "colab": {
          "base_uri": "https://localhost:8080/"
        },
        "id": "bgMuyWn9ZhBX",
        "outputId": "0a2d6c4f-baae-446e-9e54-2ea205592cf0"
      },
      "execution_count": null,
      "outputs": [
        {
          "output_type": "execute_result",
          "data": {
            "text/plain": [
              "[16799.185547,\n",
              " 16788.051843750694,\n",
              " 16778.383975678724,\n",
              " 16805.33882578501,\n",
              " 16799.598435748914,\n",
              " 16798.171138390557,\n",
              " 16811.731215589654,\n",
              " 16800.40177403256,\n",
              " 16812.2638001305,\n",
              " 16820.852629726247,\n",
              " 16830.338683022244]"
            ]
          },
          "metadata": {},
          "execution_count": 66
        }
      ]
    },
    {
      "cell_type": "code",
      "source": [
        "y_true=test['Close'].values\n",
        "y_true"
      ],
      "metadata": {
        "colab": {
          "base_uri": "https://localhost:8080/"
        },
        "id": "QsIGpsHT7m4R",
        "outputId": "fa5d0585-14ec-4299-d62d-7cdafb9a0211"
      },
      "execution_count": null,
      "outputs": [
        {
          "output_type": "execute_result",
          "data": {
            "text/plain": [
              "array([16353.365234, 16618.199219, 16884.613281, 16669.439453,\n",
              "       16687.517578, 16697.777344, 16711.546875, 16291.832031,\n",
              "       15787.28418 , 16189.769531])"
            ]
          },
          "metadata": {},
          "execution_count": 67
        }
      ]
    },
    {
      "cell_type": "code",
      "source": [
        "test_pred[1:]"
      ],
      "metadata": {
        "colab": {
          "base_uri": "https://localhost:8080/"
        },
        "id": "lGnTDyOgWNu8",
        "outputId": "2e32e004-1dcb-4b79-eec3-f98162e4a1e0"
      },
      "execution_count": null,
      "outputs": [
        {
          "output_type": "execute_result",
          "data": {
            "text/plain": [
              "[16788.051843750694,\n",
              " 16778.383975678724,\n",
              " 16805.33882578501,\n",
              " 16799.598435748914,\n",
              " 16798.171138390557,\n",
              " 16811.731215589654,\n",
              " 16800.40177403256,\n",
              " 16812.2638001305,\n",
              " 16820.852629726247,\n",
              " 16830.338683022244]"
            ]
          },
          "metadata": {},
          "execution_count": 68
        }
      ]
    },
    {
      "cell_type": "code",
      "source": [
        "rmse = np.sqrt(mean_squared_error(np.log(y_true),np.log(test_pred[1:])))\n",
        "print(rmse)"
      ],
      "metadata": {
        "colab": {
          "base_uri": "https://localhost:8080/"
        },
        "id": "_chlgzKv-9uX",
        "outputId": "64cf2769-e6a2-475b-bce8-3d985a8fc790"
      },
      "execution_count": null,
      "outputs": [
        {
          "output_type": "stream",
          "name": "stdout",
          "text": [
            "0.02738033501605745\n"
          ]
        }
      ]
    }
  ]
}